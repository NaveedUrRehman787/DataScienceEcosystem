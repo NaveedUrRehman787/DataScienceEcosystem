{
  "nbformat": 4,
  "nbformat_minor": 0,
  "metadata": {
    "colab": {
      "provenance": []
    },
    "kernelspec": {
      "name": "python3",
      "display_name": "Python 3"
    },
    "language_info": {
      "name": "python"
    }
  },
  "cells": [
    {
      "cell_type": "markdown",
      "source": [
        "# Data Science Tools and Ecosystem"
      ],
      "metadata": {
        "id": "ofFs6QEo3YaP"
      }
    },
    {
      "cell_type": "markdown",
      "source": [
        "In this notebook, Data Science Tools and Ecosystem are summarized."
      ],
      "metadata": {
        "id": "cvVM2V5w4jlS"
      }
    },
    {
      "cell_type": "markdown",
      "source": [
        "Some of the popular languages that Data Scientists use are:\n",
        " - C++\n",
        " - Python\n",
        " - R"
      ],
      "metadata": {
        "id": "VBLWQLce4p3C"
      }
    },
    {
      "cell_type": "markdown",
      "source": [
        "Some of the commonly used libraries used by Data Scientists include:\n",
        "- Numpy\n",
        "- Pandas\n",
        "- Scikit Learn\n",
        "- Keras\n",
        "- Scipy"
      ],
      "metadata": {
        "id": "K0zml2ln5F_5"
      }
    },
    {
      "cell_type": "markdown",
      "source": [
        "| Data Science Tools |\n",
        "| ------------------ |\n",
        "| Jupyter Notebook |\n",
        "| RStudio |\n",
        "| Visual Studio |"
      ],
      "metadata": {
        "id": "FPA9QxkY5tyF"
      }
    },
    {
      "cell_type": "markdown",
      "source": [
        "### Below are a few examples of evaluating arithmetic expressions in Python"
      ],
      "metadata": {
        "id": "2FRrMoEU95u9"
      }
    },
    {
      "cell_type": "markdown",
      "source": [
        "This a simple arithmetic expression to mutiply then add integers"
      ],
      "metadata": {
        "id": "ZTj3zLlq-P2L"
      }
    },
    {
      "cell_type": "code",
      "source": [
        "(3*4)+5"
      ],
      "metadata": {
        "colab": {
          "base_uri": "https://localhost:8080/"
        },
        "id": "wq-OmoXe-lio",
        "outputId": "9acea1b6-1b96-4dbc-b961-45273e60e695"
      },
      "execution_count": 1,
      "outputs": [
        {
          "output_type": "execute_result",
          "data": {
            "text/plain": [
              "17"
            ]
          },
          "metadata": {},
          "execution_count": 1
        }
      ]
    },
    {
      "cell_type": "markdown",
      "source": [
        "This will convert 200 minutes to hours by diving by 60"
      ],
      "metadata": {
        "id": "W71n6xd0_HQh"
      }
    },
    {
      "cell_type": "code",
      "source": [
        "200/60"
      ],
      "metadata": {
        "colab": {
          "base_uri": "https://localhost:8080/"
        },
        "id": "iOXBaLnF_F48",
        "outputId": "8b39cd0e-b661-4b6f-98f0-45e3fe8fb399"
      },
      "execution_count": 2,
      "outputs": [
        {
          "output_type": "execute_result",
          "data": {
            "text/plain": [
              "3.3333333333333335"
            ]
          },
          "metadata": {},
          "execution_count": 2
        }
      ]
    },
    {
      "cell_type": "markdown",
      "source": [
        "**Objectives:**\n",
        "- List of languages for Data Science\n",
        "  - R\n",
        "  - Python\n",
        "  - Java\n",
        "- List of libraries\n",
        "  - Pandas\n",
        "  - Scikit Learn\n",
        "  - Numpy\n",
        "- List of Development Enviroments\n",
        "  - RStudio\n",
        "  - Jupyter Notebook\n",
        "- We have learned about Version control. (Github)\n",
        "- Learb about R language and differnet functions also R libraries such as ggplot etc.\n"
      ],
      "metadata": {
        "id": "v49xIiSh_ubc"
      }
    },
    {
      "cell_type": "markdown",
      "source": [
        "## Author\n",
        "Naveed Ur Rehman"
      ],
      "metadata": {
        "id": "2o23ceG_A1zk"
      }
    },
    {
      "cell_type": "markdown",
      "source": [],
      "metadata": {
        "id": "52o28vJFBNoh"
      }
    }
  ]
}